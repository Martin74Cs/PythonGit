{
 "cells": [
  {
   "cell_type": "markdown",
   "metadata": {},
   "source": [
    "Elektrické sítě\n",
    "https://github.com/aloytag/electrical-grid-simulator/blob/main/README_PyPI.md\n",
    "python -m pip install electricalsim"
   ]
  },
  {
   "cell_type": "markdown",
   "metadata": {},
   "source": [
    "Po instalaci jej můžete spustit pomocí příkazu:\n",
    "\n",
    "egs\n",
    "\n",
    "Pokud dáváte přednost spuštění programu praktičtějším způsobem, proveďte tento příkaz pouze jednou:\n",
    "egs-create-shortcut"
   ]
  },
  {
   "cell_type": "code",
   "execution_count": null,
   "metadata": {},
   "outputs": [],
   "source": []
  }
 ],
 "metadata": {
  "language_info": {
   "name": "python"
  }
 },
 "nbformat": 4,
 "nbformat_minor": 2
}
