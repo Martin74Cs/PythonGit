{
 "cells": [
  {
   "cell_type": "code",
   "execution_count": 104,
   "metadata": {},
   "outputs": [
    {
     "name": "stdout",
     "output_type": "stream",
     "text": [
      "This pandapower network is empty\n",
      "Empty DataFrame\n",
      "Columns: [name, vn_kv, type, zone, in_service]\n",
      "Index: []\n",
      "Empty DataFrame\n",
      "Columns: [name, bus, p_mw, q_mvar, const_z_percent, const_i_percent, sn_mva, scaling, in_service, type]\n",
      "Index: []\n",
      "Empty DataFrame\n",
      "Columns: [name, bus, p_mw, q_mvar, sn_mva, scaling, in_service, type, current_source]\n",
      "Index: []\n",
      "Empty DataFrame\n",
      "Columns: [name, bus, vm_pu, va_degree, slack_weight, in_service]\n",
      "Index: []\n",
      "Empty DataFrame\n",
      "Columns: [name, std_type, from_bus, to_bus, length_km, r_ohm_per_km, x_ohm_per_km, c_nf_per_km, g_us_per_km, max_i_ka, df, parallel, type, in_service]\n",
      "Index: []\n",
      "Empty DataFrame\n",
      "Columns: [name, std_type, hv_bus, lv_bus, sn_mva, vn_hv_kv, vn_lv_kv, vk_percent, vkr_percent, pfe_kw, i0_percent, shift_degree, tap_side, tap_neutral, tap_min, tap_max, tap_step_percent, tap_step_degree, tap_pos, tap_phase_shifter, parallel, df, in_service]\n",
      "Index: []\n",
      "Empty DataFrame\n",
      "Columns: [x, y, coords]\n",
      "Index: []\n",
      "Empty DataFrame\n",
      "Columns: [name, bus, pn_mech_mw, loading_percent, cos_phi, cos_phi_n, efficiency_percent, efficiency_n_percent, lrc_pu, vn_kv, scaling, in_service, rx]\n",
      "Index: []\n"
     ]
    }
   ],
   "source": [
    "import pandapower as pp\n",
    "net = pp.create_empty_network(name=\"Prazné\") \n",
    "print(net)\n",
    "print(net.bus)\n",
    "print(net.load)\n",
    "print(net.sgen)\n",
    "print(net.ext_grid)\n",
    "print(net.line)\n",
    "print(net.trafo)\n",
    "print(net.bus_geodata)\n",
    "print(net.motor)\n",
    "\n"
   ]
  },
  {
   "cell_type": "code",
   "execution_count": 105,
   "metadata": {},
   "outputs": [
    {
     "name": "stdout",
     "output_type": "stream",
     "text": [
      "                    i0_percent  pfe_kw  vkr_percent  sn_mva  vn_lv_kv  \\\n",
      "160 MVA 380/110 kV      0.0600   60.00       0.2500  160.00     110.0   \n",
      "100 MVA 220/110 kV      0.0600   55.00       0.2600  100.00     110.0   \n",
      "63 MVA 110/20 kV        0.0400   22.00       0.3200   63.00      20.0   \n",
      "40 MVA 110/20 kV        0.0500   18.00       0.3400   40.00      20.0   \n",
      "25 MVA 110/20 kV        0.0700   14.00       0.4100   25.00      20.0   \n",
      "63 MVA 110/10 kV        0.0400   22.00       0.3200   63.00      10.0   \n",
      "40 MVA 110/10 kV        0.0500   18.00       0.3400   40.00      10.0   \n",
      "25 MVA 110/10 kV        0.0700   14.00       0.4100   25.00      10.0   \n",
      "0.25 MVA 20/0.4 kV      0.3200    0.80       1.4400    0.25       0.4   \n",
      "0.4 MVA 20/0.4 kV       0.3375    1.35       1.4250    0.40       0.4   \n",
      "0.63 MVA 20/0.4 kV      0.2619    1.65       1.2060    0.63       0.4   \n",
      "0.25 MVA 10/0.4 kV      0.2400    0.60       1.2000    0.25       0.4   \n",
      "0.4 MVA 10/0.4 kV       0.2375    0.95       1.3250    0.40       0.4   \n",
      "0.63 MVA 10/0.4 kV      0.1873    1.18       1.0794    0.63       0.4   \n",
      "\n",
      "                    vn_hv_kv  vk_percent  shift_degree vector_group tap_side  \\\n",
      "160 MVA 380/110 kV     380.0        12.2             0          Yy0       hv   \n",
      "100 MVA 220/110 kV     220.0        12.0             0          Yy0       hv   \n",
      "63 MVA 110/20 kV       110.0        18.0           150         YNd5       hv   \n",
      "40 MVA 110/20 kV       110.0        16.2           150         YNd5       hv   \n",
      "25 MVA 110/20 kV       110.0        12.0           150         YNd5       hv   \n",
      "63 MVA 110/10 kV       110.0        18.0           150         YNd5       hv   \n",
      "40 MVA 110/10 kV       110.0        16.2           150         YNd5       hv   \n",
      "25 MVA 110/10 kV       110.0        12.0           150         YNd5       hv   \n",
      "0.25 MVA 20/0.4 kV      20.0         6.0           150         Yzn5       hv   \n",
      "0.4 MVA 20/0.4 kV       20.0         6.0           150         Dyn5       hv   \n",
      "0.63 MVA 20/0.4 kV      20.0         6.0           150         Dyn5       hv   \n",
      "0.25 MVA 10/0.4 kV      10.0         4.0           150         Dyn5       hv   \n",
      "0.4 MVA 10/0.4 kV       10.0         4.0           150         Dyn5       hv   \n",
      "0.63 MVA 10/0.4 kV      10.0         4.0           150         Dyn5       hv   \n",
      "\n",
      "                    tap_neutral  tap_min  tap_max  tap_step_degree  \\\n",
      "160 MVA 380/110 kV            0       -9        9                0   \n",
      "100 MVA 220/110 kV            0       -9        9                0   \n",
      "63 MVA 110/20 kV              0       -9        9                0   \n",
      "40 MVA 110/20 kV              0       -9        9                0   \n",
      "25 MVA 110/20 kV              0       -9        9                0   \n",
      "63 MVA 110/10 kV              0       -9        9                0   \n",
      "40 MVA 110/10 kV              0       -9        9                0   \n",
      "25 MVA 110/10 kV              0       -9        9                0   \n",
      "0.25 MVA 20/0.4 kV            0       -2        2                0   \n",
      "0.4 MVA 20/0.4 kV             0       -2        2                0   \n",
      "0.63 MVA 20/0.4 kV            0       -2        2                0   \n",
      "0.25 MVA 10/0.4 kV            0       -2        2                0   \n",
      "0.4 MVA 10/0.4 kV             0       -2        2                0   \n",
      "0.63 MVA 10/0.4 kV            0       -2        2                0   \n",
      "\n",
      "                    tap_step_percent  tap_phase_shifter  \n",
      "160 MVA 380/110 kV               1.5              False  \n",
      "100 MVA 220/110 kV               1.5              False  \n",
      "63 MVA 110/20 kV                 1.5              False  \n",
      "40 MVA 110/20 kV                 1.5              False  \n",
      "25 MVA 110/20 kV                 1.5              False  \n",
      "63 MVA 110/10 kV                 1.5              False  \n",
      "40 MVA 110/10 kV                 1.5              False  \n",
      "25 MVA 110/10 kV                 1.5              False  \n",
      "0.25 MVA 20/0.4 kV               2.5              False  \n",
      "0.4 MVA 20/0.4 kV                2.5              False  \n",
      "0.63 MVA 20/0.4 kV               2.5              False  \n",
      "0.25 MVA 10/0.4 kV               2.5              False  \n",
      "0.4 MVA 10/0.4 kV                2.5              False  \n",
      "0.63 MVA 10/0.4 kV               2.5              False  \n"
     ]
    }
   ],
   "source": [
    "import pandapower as pp\n",
    "# create empty net\n",
    "# net = pp.create_empty_network(name='POkus', f_hz=50.0, sn_mva=1200, add_stdtypes=True) \n",
    "net = pp.create_empty_network(name=\"Prazné\")\n",
    "print(pp.available_std_types(net,\"trafo\"))"
   ]
  },
  {
   "cell_type": "code",
   "execution_count": 106,
   "metadata": {},
   "outputs": [
    {
     "name": "stdout",
     "output_type": "stream",
     "text": [
      "Maximum {0} nan\n"
     ]
    }
   ],
   "source": [
    "import pandapower.networks as nw\n",
    "import pandapower as pp\n",
    "# create empty net\n",
    "# net = pp.create_empty_network(name='POkus', f_hz=50.0, sn_mva=1200, add_stdtypes=True)\n",
    "# net = pp.create_empty_network() \n",
    "# Asi ppříklady\n",
    "net = nw.simple_four_bus_system()\n",
    "\n",
    "maximum = net.res_bus.vm_pu.max()\n",
    "print(\"Maximum {0}\", maximum)\n",
    "\n"
   ]
  },
  {
   "cell_type": "code",
   "execution_count": 107,
   "metadata": {},
   "outputs": [
    {
     "name": "stdout",
     "output_type": "stream",
     "text": [
      "Maximum {0} nan\n",
      "Maximum {0} Empty DataFrame\n",
      "Columns: [vm_pu, va_degree, p_mw, q_mvar]\n",
      "Index: []\n",
      "Maximum  Line {0} Empty DataFrame\n",
      "Columns: [vm_pu, va_degree, p_mw, q_mvar]\n",
      "Index: []\n",
      "This pandapower network includes the following parameter tables:\n",
      "   - bus (4 elements)\n",
      "   - load (2 elements)\n",
      "   - sgen (2 elements)\n",
      "   - ext_grid (1 element)\n",
      "   - line (2 elements)\n",
      "   - trafo (1 element)\n",
      "   - bus_geodata (4 elements)\n",
      "net.bus\n",
      "      name  vn_kv type  zone  in_service\n",
      "0  bus1ref   10.0    b  None        True\n",
      "1     bus2    0.4    b  None        True\n",
      "2     bus3    0.4    b  None        True\n",
      "3     bus4    0.4    b  None        True\n",
      "net.load\n",
      "    name  bus  p_mw  q_mvar  const_z_percent  const_i_percent  sn_mva  \\\n",
      "0  load1    2  0.03    0.01              0.0              0.0     NaN   \n",
      "1  load2    3  0.03    0.01              0.0              0.0     NaN   \n",
      "\n",
      "   scaling  in_service type  \n",
      "0      1.0        True  wye  \n",
      "1      1.0        True  wye  \n",
      "net.sgen\n",
      "  name  bus   p_mw  q_mvar  sn_mva  scaling  in_service type  current_source\n",
      "0  pv1    2  0.020   0.005    0.03      1.0        True  wye            True\n",
      "1  pv2    3  0.015   0.002    0.02      1.0        True  wye            True\n",
      "net.ext_grid\n",
      "   name  bus  vm_pu  va_degree  slack_weight  in_service\n",
      "0  None    0    1.0        0.0           1.0        True\n",
      "net.line\n",
      "    name      std_type  from_bus  to_bus  length_km  r_ohm_per_km  \\\n",
      "0  line1  NAYY 4x50 SE         1       2        0.5         0.642   \n",
      "1  line2  NAYY 4x50 SE         2       3        0.5         0.642   \n",
      "\n",
      "   x_ohm_per_km  c_nf_per_km  g_us_per_km  max_i_ka   df  parallel type  \\\n",
      "0         0.083        210.0          0.0     0.142  1.0         1   cs   \n",
      "1         0.083        210.0          0.0     0.142  1.0         1   cs   \n",
      "\n",
      "   in_service  \n",
      "0        True  \n",
      "1        True  \n",
      "net.trafo\n",
      "          name            std_type  hv_bus  lv_bus  sn_mva  vn_hv_kv  \\\n",
      "0  transformer  0.25 MVA 10/0.4 kV       0       1    0.25      10.0   \n",
      "\n",
      "   vn_lv_kv  vk_percent  vkr_percent  pfe_kw  i0_percent  shift_degree  \\\n",
      "0       0.4         4.0          1.2     0.6        0.24         150.0   \n",
      "\n",
      "  tap_side  tap_neutral  tap_min  tap_max  tap_step_percent  tap_step_degree  \\\n",
      "0       hv            0       -2        2               2.5              0.0   \n",
      "\n",
      "   tap_pos  tap_phase_shifter  parallel   df  in_service  \n",
      "0        0              False         1  1.0        True  \n"
     ]
    }
   ],
   "source": [
    "import pandapower.networks as nw\n",
    "import pandapower as pp\n",
    "# create empty net\n",
    "# net = pp.create_empty_network(name='POkus', f_hz=50.0, sn_mva=1200, add_stdtypes=True)\n",
    "# net = pp.create_empty_network() \n",
    "# Asi ppříklady\n",
    "net = nw.simple_four_bus_system()\n",
    "\n",
    "maximum = net.res_bus.vm_pu.max()\n",
    "print(\"Maximum {0}\", maximum)\n",
    "\n",
    "maximum = net.res_bus.loc[net.res_bus.vm_pu > 1.02]\n",
    "print(\"Maximum {0}\", maximum)\n",
    "\n",
    "lines = net.res_line.loc[net.res_line.loading_percent > 50.]\n",
    "print(\"Maximum  Line {0}\", maximum)\n",
    "\n",
    "print(net)\n",
    "print(\"net.bus\")\n",
    "print(net.bus)\n",
    "print(\"net.load\")\n",
    "print(net.load)\n",
    "print(\"net.sgen\")\n",
    "print(net.sgen)\n",
    "print(\"net.ext_grid\")\n",
    "print(net.ext_grid)\n",
    "print(\"net.line\")\n",
    "print(net.line)\n",
    "print(\"net.trafo\")\n",
    "print(net.trafo)"
   ]
  },
  {
   "cell_type": "code",
   "execution_count": 108,
   "metadata": {},
   "outputs": [
    {
     "data": {
      "text/plain": [
       "This pandapower network includes the following parameter tables:\n",
       "   - bus (179 elements)\n",
       "   - load (147 elements)\n",
       "   - sgen (153 elements)\n",
       "   - switch (322 elements)\n",
       "   - ext_grid (2 elements)\n",
       "   - line (181 elements)\n",
       "   - trafo (2 elements)\n",
       "   - line_geodata (181 elements)\n",
       "   - bus_geodata (179 elements)\n",
       " and the following results tables:\n",
       "   - res_bus (179 elements)\n",
       "   - res_line (181 elements)\n",
       "   - res_trafo (2 elements)\n",
       "   - res_ext_grid (2 elements)\n",
       "   - res_load (147 elements)\n",
       "   - res_sgen (153 elements)\n",
       "   - res_switch (322 elements)"
      ]
     },
     "execution_count": 108,
     "metadata": {},
     "output_type": "execute_result"
    }
   ],
   "source": [
    "import pandapower.networks as nw\n",
    "import pandapower.plotting as plot\n",
    "import matplotlib.pyplot as plt\n",
    "import seaborn\n",
    "\n",
    "nw.mv_oberrhein()\n"
   ]
  },
  {
   "cell_type": "markdown",
   "metadata": {},
   "source": [
    "Po vytvoření vlastního typu můžeš zkontrolovat, zda byl správně přidán do sítě:\n",
    "Tento příkaz zobrazí všechny standardní typy vedení, včetně tvého vlastního typu"
   ]
  },
  {
   "cell_type": "code",
   "execution_count": 3,
   "metadata": {},
   "outputs": [
    {
     "name": "stdout",
     "output_type": "stream",
     "text": [
      "{'NAYY 4x50 SE': {'c_nf_per_km': 210, 'r_ohm_per_km': 0.642, 'x_ohm_per_km': 0.083, 'max_i_ka': 0.142, 'type': 'cs', 'q_mm2': 50, 'alpha': 0.00403, 'voltage_rating': 'LV'}, 'NAYY 4x120 SE': {'c_nf_per_km': 264, 'r_ohm_per_km': 0.225, 'x_ohm_per_km': 0.08, 'max_i_ka': 0.242, 'type': 'cs', 'q_mm2': 120, 'alpha': 0.00403, 'voltage_rating': 'LV'}, 'NAYY 4x150 SE': {'c_nf_per_km': 261, 'r_ohm_per_km': 0.208, 'x_ohm_per_km': 0.08, 'max_i_ka': 0.27, 'type': 'cs', 'q_mm2': 150, 'alpha': 0.00403, 'voltage_rating': 'LV'}, 'NA2XS2Y 1x95 RM/25 12/20 kV': {'c_nf_per_km': 216, 'r_ohm_per_km': 0.313, 'x_ohm_per_km': 0.132, 'max_i_ka': 0.252, 'type': 'cs', 'q_mm2': 95, 'alpha': 0.00403, 'voltage_rating': 'MV'}, 'NA2XS2Y 1x185 RM/25 12/20 kV': {'c_nf_per_km': 273, 'r_ohm_per_km': 0.161, 'x_ohm_per_km': 0.117, 'max_i_ka': 0.362, 'type': 'cs', 'q_mm2': 185, 'alpha': 0.00403, 'voltage_rating': 'MV'}, 'NA2XS2Y 1x240 RM/25 12/20 kV': {'c_nf_per_km': 304, 'r_ohm_per_km': 0.122, 'x_ohm_per_km': 0.112, 'max_i_ka': 0.421, 'type': 'cs', 'q_mm2': 240, 'alpha': 0.00403, 'voltage_rating': 'MV'}, 'NA2XS2Y 1x95 RM/25 6/10 kV': {'c_nf_per_km': 315, 'r_ohm_per_km': 0.313, 'x_ohm_per_km': 0.123, 'max_i_ka': 0.249, 'type': 'cs', 'q_mm2': 95, 'alpha': 0.00403, 'voltage_rating': 'MV'}, 'NA2XS2Y 1x185 RM/25 6/10 kV': {'c_nf_per_km': 406, 'r_ohm_per_km': 0.161, 'x_ohm_per_km': 0.11, 'max_i_ka': 0.358, 'type': 'cs', 'q_mm2': 185, 'alpha': 0.00403, 'voltage_rating': 'MV'}, 'NA2XS2Y 1x240 RM/25 6/10 kV': {'c_nf_per_km': 456, 'r_ohm_per_km': 0.122, 'x_ohm_per_km': 0.105, 'max_i_ka': 0.416, 'type': 'cs', 'q_mm2': 240, 'alpha': 0.00403, 'voltage_rating': 'MV'}, 'NA2XS2Y 1x150 RM/25 12/20 kV': {'c_nf_per_km': 250, 'r_ohm_per_km': 0.206, 'x_ohm_per_km': 0.116, 'max_i_ka': 0.319, 'type': 'cs', 'q_mm2': 150, 'alpha': 0.00403, 'voltage_rating': 'MV'}, 'NA2XS2Y 1x120 RM/25 12/20 kV': {'c_nf_per_km': 230, 'r_ohm_per_km': 0.253, 'x_ohm_per_km': 0.119, 'max_i_ka': 0.283, 'type': 'cs', 'q_mm2': 120, 'alpha': 0.00403, 'voltage_rating': 'MV'}, 'NA2XS2Y 1x70 RM/25 12/20 kV': {'c_nf_per_km': 190, 'r_ohm_per_km': 0.443, 'x_ohm_per_km': 0.132, 'max_i_ka': 0.22, 'type': 'cs', 'q_mm2': 70, 'alpha': 0.00403, 'voltage_rating': 'MV'}, 'NA2XS2Y 1x150 RM/25 6/10 kV': {'c_nf_per_km': 360, 'r_ohm_per_km': 0.206, 'x_ohm_per_km': 0.11, 'max_i_ka': 0.315, 'type': 'cs', 'q_mm2': 150, 'alpha': 0.00403, 'voltage_rating': 'MV'}, 'NA2XS2Y 1x120 RM/25 6/10 kV': {'c_nf_per_km': 340, 'r_ohm_per_km': 0.253, 'x_ohm_per_km': 0.113, 'max_i_ka': 0.28, 'type': 'cs', 'q_mm2': 120, 'alpha': 0.00403, 'voltage_rating': 'MV'}, 'NA2XS2Y 1x70 RM/25 6/10 kV': {'c_nf_per_km': 280, 'r_ohm_per_km': 0.443, 'x_ohm_per_km': 0.123, 'max_i_ka': 0.217, 'type': 'cs', 'q_mm2': 70, 'alpha': 0.00403, 'voltage_rating': 'MV'}, 'N2XS(FL)2Y 1x120 RM/35 64/110 kV': {'c_nf_per_km': 112, 'r_ohm_per_km': 0.153, 'x_ohm_per_km': 0.166, 'max_i_ka': 0.366, 'type': 'cs', 'q_mm2': 120, 'alpha': 0.00393, 'voltage_rating': 'HV'}, 'N2XS(FL)2Y 1x185 RM/35 64/110 kV': {'c_nf_per_km': 125, 'r_ohm_per_km': 0.099, 'x_ohm_per_km': 0.156, 'max_i_ka': 0.457, 'type': 'cs', 'q_mm2': 185, 'alpha': 0.00393, 'voltage_rating': 'HV'}, 'N2XS(FL)2Y 1x240 RM/35 64/110 kV': {'c_nf_per_km': 135, 'r_ohm_per_km': 0.075, 'x_ohm_per_km': 0.149, 'max_i_ka': 0.526, 'type': 'cs', 'q_mm2': 240, 'alpha': 0.00393, 'voltage_rating': 'HV'}, 'N2XS(FL)2Y 1x300 RM/35 64/110 kV': {'c_nf_per_km': 144, 'r_ohm_per_km': 0.06, 'x_ohm_per_km': 0.144, 'max_i_ka': 0.588, 'type': 'cs', 'q_mm2': 300, 'alpha': 0.00393, 'voltage_rating': 'HV'}, '15-AL1/3-ST1A 0.4': {'c_nf_per_km': 11, 'r_ohm_per_km': 1.8769, 'x_ohm_per_km': 0.35, 'max_i_ka': 0.105, 'type': 'ol', 'q_mm2': 16, 'alpha': 0.00403, 'voltage_rating': 'LV'}, '24-AL1/4-ST1A 0.4': {'c_nf_per_km': 11.25, 'r_ohm_per_km': 1.2012, 'x_ohm_per_km': 0.335, 'max_i_ka': 0.14, 'type': 'ol', 'q_mm2': 24, 'alpha': 0.00403, 'voltage_rating': 'LV'}, '48-AL1/8-ST1A 0.4': {'c_nf_per_km': 12.2, 'r_ohm_per_km': 0.5939, 'x_ohm_per_km': 0.3, 'max_i_ka': 0.21, 'type': 'ol', 'q_mm2': 48, 'alpha': 0.00403, 'voltage_rating': 'LV'}, '94-AL1/15-ST1A 0.4': {'c_nf_per_km': 13.2, 'r_ohm_per_km': 0.306, 'x_ohm_per_km': 0.29, 'max_i_ka': 0.35, 'type': 'ol', 'q_mm2': 94, 'alpha': 0.00403, 'voltage_rating': 'LV'}, '34-AL1/6-ST1A 10.0': {'c_nf_per_km': 9.7, 'r_ohm_per_km': 0.8342, 'x_ohm_per_km': 0.36, 'max_i_ka': 0.17, 'type': 'ol', 'q_mm2': 34, 'alpha': 0.00403, 'voltage_rating': 'MV'}, '48-AL1/8-ST1A 10.0': {'c_nf_per_km': 10.1, 'r_ohm_per_km': 0.5939, 'x_ohm_per_km': 0.35, 'max_i_ka': 0.21, 'type': 'ol', 'q_mm2': 48, 'alpha': 0.00403, 'voltage_rating': 'MV'}, '70-AL1/11-ST1A 10.0': {'c_nf_per_km': 10.4, 'r_ohm_per_km': 0.4132, 'x_ohm_per_km': 0.339, 'max_i_ka': 0.29, 'type': 'ol', 'q_mm2': 70, 'alpha': 0.00403, 'voltage_rating': 'MV'}, '94-AL1/15-ST1A 10.0': {'c_nf_per_km': 10.75, 'r_ohm_per_km': 0.306, 'x_ohm_per_km': 0.33, 'max_i_ka': 0.35, 'type': 'ol', 'q_mm2': 94, 'alpha': 0.00403, 'voltage_rating': 'MV'}, '122-AL1/20-ST1A 10.0': {'c_nf_per_km': 11.1, 'r_ohm_per_km': 0.2376, 'x_ohm_per_km': 0.323, 'max_i_ka': 0.41, 'type': 'ol', 'q_mm2': 122, 'alpha': 0.00403, 'voltage_rating': 'MV'}, '149-AL1/24-ST1A 10.0': {'c_nf_per_km': 11.25, 'r_ohm_per_km': 0.194, 'x_ohm_per_km': 0.315, 'max_i_ka': 0.47, 'type': 'ol', 'q_mm2': 149, 'alpha': 0.00403, 'voltage_rating': 'MV'}, '34-AL1/6-ST1A 20.0': {'c_nf_per_km': 9.15, 'r_ohm_per_km': 0.8342, 'x_ohm_per_km': 0.382, 'max_i_ka': 0.17, 'type': 'ol', 'q_mm2': 34, 'alpha': 0.00403, 'voltage_rating': 'MV'}, '48-AL1/8-ST1A 20.0': {'c_nf_per_km': 9.5, 'r_ohm_per_km': 0.5939, 'x_ohm_per_km': 0.372, 'max_i_ka': 0.21, 'type': 'ol', 'q_mm2': 48, 'alpha': 0.00403, 'voltage_rating': 'MV'}, '70-AL1/11-ST1A 20.0': {'c_nf_per_km': 9.7, 'r_ohm_per_km': 0.4132, 'x_ohm_per_km': 0.36, 'max_i_ka': 0.29, 'type': 'ol', 'q_mm2': 70, 'alpha': 0.00403, 'voltage_rating': 'MV'}, '94-AL1/15-ST1A 20.0': {'c_nf_per_km': 10, 'r_ohm_per_km': 0.306, 'x_ohm_per_km': 0.35, 'max_i_ka': 0.35, 'type': 'ol', 'q_mm2': 94, 'alpha': 0.00403, 'voltage_rating': 'MV'}, '122-AL1/20-ST1A 20.0': {'c_nf_per_km': 10.3, 'r_ohm_per_km': 0.2376, 'x_ohm_per_km': 0.344, 'max_i_ka': 0.41, 'type': 'ol', 'q_mm2': 122, 'alpha': 0.00403, 'voltage_rating': 'MV'}, '149-AL1/24-ST1A 20.0': {'c_nf_per_km': 10.5, 'r_ohm_per_km': 0.194, 'x_ohm_per_km': 0.337, 'max_i_ka': 0.47, 'type': 'ol', 'q_mm2': 149, 'alpha': 0.00403, 'voltage_rating': 'MV'}, '184-AL1/30-ST1A 20.0': {'c_nf_per_km': 10.75, 'r_ohm_per_km': 0.1571, 'x_ohm_per_km': 0.33, 'max_i_ka': 0.535, 'type': 'ol', 'q_mm2': 184, 'alpha': 0.00403, 'voltage_rating': 'MV'}, '243-AL1/39-ST1A 20.0': {'c_nf_per_km': 11, 'r_ohm_per_km': 0.1188, 'x_ohm_per_km': 0.32, 'max_i_ka': 0.645, 'type': 'ol', 'q_mm2': 243, 'alpha': 0.00403, 'voltage_rating': 'MV'}, '48-AL1/8-ST1A 110.0': {'c_nf_per_km': 8, 'r_ohm_per_km': 0.5939, 'x_ohm_per_km': 0.46, 'max_i_ka': 0.21, 'type': 'ol', 'q_mm2': 48, 'alpha': 0.00403, 'voltage_rating': 'HV'}, '70-AL1/11-ST1A 110.0': {'c_nf_per_km': 8.4, 'r_ohm_per_km': 0.4132, 'x_ohm_per_km': 0.45, 'max_i_ka': 0.29, 'type': 'ol', 'q_mm2': 70, 'alpha': 0.00403, 'voltage_rating': 'HV'}, '94-AL1/15-ST1A 110.0': {'c_nf_per_km': 8.65, 'r_ohm_per_km': 0.306, 'x_ohm_per_km': 0.44, 'max_i_ka': 0.35, 'type': 'ol', 'q_mm2': 94, 'alpha': 0.00403, 'voltage_rating': 'HV'}, '122-AL1/20-ST1A 110.0': {'c_nf_per_km': 8.5, 'r_ohm_per_km': 0.2376, 'x_ohm_per_km': 0.43, 'max_i_ka': 0.41, 'type': 'ol', 'q_mm2': 122, 'alpha': 0.00403, 'voltage_rating': 'HV'}, '149-AL1/24-ST1A 110.0': {'c_nf_per_km': 8.75, 'r_ohm_per_km': 0.194, 'x_ohm_per_km': 0.41, 'max_i_ka': 0.47, 'type': 'ol', 'q_mm2': 149, 'alpha': 0.00403, 'voltage_rating': 'HV'}, '184-AL1/30-ST1A 110.0': {'c_nf_per_km': 8.8, 'r_ohm_per_km': 0.1571, 'x_ohm_per_km': 0.4, 'max_i_ka': 0.535, 'type': 'ol', 'q_mm2': 184, 'alpha': 0.00403, 'voltage_rating': 'HV'}, '243-AL1/39-ST1A 110.0': {'c_nf_per_km': 9, 'r_ohm_per_km': 0.1188, 'x_ohm_per_km': 0.39, 'max_i_ka': 0.645, 'type': 'ol', 'q_mm2': 243, 'alpha': 0.00403, 'voltage_rating': 'HV'}, '305-AL1/39-ST1A 110.0': {'c_nf_per_km': 9.2, 'r_ohm_per_km': 0.0949, 'x_ohm_per_km': 0.38, 'max_i_ka': 0.74, 'type': 'ol', 'q_mm2': 305, 'alpha': 0.00403, 'voltage_rating': 'HV'}, '490-AL1/64-ST1A 110.0': {'c_nf_per_km': 9.75, 'r_ohm_per_km': 0.059, 'x_ohm_per_km': 0.37, 'max_i_ka': 0.96, 'type': 'ol', 'q_mm2': 490, 'alpha': 0.00403, 'voltage_rating': 'HV'}, '679-AL1/86-ST1A 110.0': {'c_nf_per_km': 9.95, 'r_ohm_per_km': 0.042, 'x_ohm_per_km': 0.36, 'max_i_ka': 1.15, 'type': 'ol', 'q_mm2': 679, 'alpha': 0.00403, 'voltage_rating': 'HV'}, '490-AL1/64-ST1A 220.0': {'c_nf_per_km': 10, 'r_ohm_per_km': 0.059, 'x_ohm_per_km': 0.285, 'max_i_ka': 0.96, 'type': 'ol', 'q_mm2': 490, 'alpha': 0.00403, 'voltage_rating': 'HV'}, '679-AL1/86-ST1A 220.0': {'c_nf_per_km': 11.7, 'r_ohm_per_km': 0.042, 'x_ohm_per_km': 0.275, 'max_i_ka': 1.15, 'type': 'ol', 'q_mm2': 679, 'alpha': 0.00403, 'voltage_rating': 'HV'}, '490-AL1/64-ST1A 380.0': {'c_nf_per_km': 11, 'r_ohm_per_km': 0.059, 'x_ohm_per_km': 0.253, 'max_i_ka': 0.96, 'type': 'ol', 'q_mm2': 490, 'alpha': 0.00403, 'voltage_rating': 'HV'}, '679-AL1/86-ST1A 380.0': {'c_nf_per_km': 14.6, 'r_ohm_per_km': 0.042, 'x_ohm_per_km': 0.25, 'max_i_ka': 1.15, 'type': 'ol', 'q_mm2': 679, 'alpha': 0.00403, 'voltage_rating': 'HV'}}\n"
     ]
    }
   ],
   "source": [
    "import pandapower as pp\n",
    "net = pp.create_empty_network()\n",
    "print(net.std_types[\"line\"])"
   ]
  },
  {
   "cell_type": "markdown",
   "metadata": {},
   "source": []
  },
  {
   "cell_type": "code",
   "execution_count": 5,
   "metadata": {},
   "outputs": [
    {
     "ename": "TypeError",
     "evalue": "create_std_type() got an unexpected keyword argument 'type_dict'",
     "output_type": "error",
     "traceback": [
      "\u001b[1;31m---------------------------------------------------------------------------\u001b[0m",
      "\u001b[1;31mTypeError\u001b[0m                                 Traceback (most recent call last)",
      "Cell \u001b[1;32mIn[5], line 14\u001b[0m\n\u001b[0;32m      2\u001b[0m net \u001b[38;5;241m=\u001b[39m pp\u001b[38;5;241m.\u001b[39mcreate_empty_network()\n\u001b[0;32m      4\u001b[0m vlastni_typ_kabelu_rozsireny \u001b[38;5;241m=\u001b[39m {\n\u001b[0;32m      5\u001b[0m     \u001b[38;5;124m\"\u001b[39m\u001b[38;5;124mc_nf_per_km\u001b[39m\u001b[38;5;124m\"\u001b[39m: \u001b[38;5;241m10\u001b[39m,\n\u001b[0;32m      6\u001b[0m     \u001b[38;5;124m\"\u001b[39m\u001b[38;5;124mmax_i_ka\u001b[39m\u001b[38;5;124m\"\u001b[39m: \u001b[38;5;241m0.5\u001b[39m,\n\u001b[1;32m   (...)\u001b[0m\n\u001b[0;32m     11\u001b[0m     \u001b[38;5;124m\"\u001b[39m\u001b[38;5;124mtype\u001b[39m\u001b[38;5;124m\"\u001b[39m: \u001b[38;5;124m\"\u001b[39m\u001b[38;5;124mline\u001b[39m\u001b[38;5;124m\"\u001b[39m\n\u001b[0;32m     12\u001b[0m }\n\u001b[1;32m---> 14\u001b[0m \u001b[43mpp\u001b[49m\u001b[38;5;241;43m.\u001b[39;49m\u001b[43mcreate_std_type\u001b[49m\u001b[43m(\u001b[49m\u001b[43mnet\u001b[49m\u001b[43m,\u001b[49m\u001b[43m \u001b[49m\u001b[43mtype_dict\u001b[49m\u001b[38;5;241;43m=\u001b[39;49m\u001b[43mvlastni_typ_kabelu_rozsireny\u001b[49m\u001b[43m,\u001b[49m\u001b[43m \u001b[49m\u001b[43mname\u001b[49m\u001b[38;5;241;43m=\u001b[39;49m\u001b[38;5;124;43m\"\u001b[39;49m\u001b[38;5;124;43mVlastniKabelRozsireny1\u001b[39;49m\u001b[38;5;124;43m\"\u001b[39;49m\u001b[43m,\u001b[49m\u001b[43m \u001b[49m\u001b[43melement\u001b[49m\u001b[38;5;241;43m=\u001b[39;49m\u001b[38;5;124;43m'\u001b[39;49m\u001b[38;5;124;43mline\u001b[39;49m\u001b[38;5;124;43m'\u001b[39;49m\u001b[43m)\u001b[49m\n\u001b[0;32m     16\u001b[0m seznamKabelů \u001b[38;5;241m=\u001b[39m net\u001b[38;5;241m.\u001b[39mstd_types[\u001b[38;5;124m\"\u001b[39m\u001b[38;5;124mline\u001b[39m\u001b[38;5;124m\"\u001b[39m]\n\u001b[0;32m     17\u001b[0m \u001b[38;5;28;01mfor\u001b[39;00m i \u001b[38;5;129;01min\u001b[39;00m seznamKabelů:\n",
      "\u001b[1;31mTypeError\u001b[0m: create_std_type() got an unexpected keyword argument 'type_dict'"
     ]
    }
   ],
   "source": [
    "import pandapower as pp\n",
    "net = pp.create_empty_network()\n",
    "\n",
    "vlastni_typ_kabelu_rozsireny = {\n",
    "    \"c_nf_per_km\": 10,\n",
    "    \"max_i_ka\": 0.5,\n",
    "    \"r_ohm_per_km\": 0.1,\n",
    "    \"x_ohm_per_km\": 0.2,\n",
    "    \"g_us_per_km\": 0.0,      # Vodivost [S/km], obvykle malá pro kovy\n",
    "    \"s_max_mva\": 1.0,        # Maximální výkon [MVA]\n",
    "    \"type\": \"line\"\n",
    "}\n",
    "\n",
    "pp.create_std_type(net, type_dict=vlastni_typ_kabelu_rozsireny, name=\"VlastniKabelRozsireny1\", element='line')\n",
    "\n",
    "seznamKabelů = net.std_types[\"line\"]\n",
    "for i in seznamKabelů:\n",
    "    print(i)"
   ]
  }
 ],
 "metadata": {
  "kernelspec": {
   "display_name": "Python 3",
   "language": "python",
   "name": "python3"
  },
  "language_info": {
   "codemirror_mode": {
    "name": "ipython",
    "version": 3
   },
   "file_extension": ".py",
   "mimetype": "text/x-python",
   "name": "python",
   "nbconvert_exporter": "python",
   "pygments_lexer": "ipython3",
   "version": "3.12.3"
  }
 },
 "nbformat": 4,
 "nbformat_minor": 2
}
