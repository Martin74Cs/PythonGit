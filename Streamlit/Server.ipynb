{
 "cells": [
  {
   "cell_type": "code",
   "execution_count": 1,
   "metadata": {},
   "outputs": [
    {
     "name": "stdout",
     "output_type": "stream",
     "text": [
      "Server started http://localhost:8080\n"
     ]
    },
    {
     "name": "stderr",
     "output_type": "stream",
     "text": [
      "127.0.0.1 - - [21/Jan/2025 18:59:04] \"GET / HTTP/1.1\" 200 -\n",
      "127.0.0.1 - - [21/Jan/2025 18:59:04] \"GET / HTTP/1.1\" 200 -\n",
      "127.0.0.1 - - [21/Jan/2025 18:59:04] \"GET /favicon.ico HTTP/1.1\" 200 -\n",
      "127.0.0.1 - - [21/Jan/2025 18:59:05] \"GET /favicon.ico HTTP/1.1\" 200 -\n",
      "127.0.0.1 - - [21/Jan/2025 18:59:19] \"GET / HTTP/1.1\" 200 -\n",
      "127.0.0.1 - - [21/Jan/2025 18:59:20] \"GET /favicon.ico HTTP/1.1\" 200 -\n"
     ]
    },
    {
     "name": "stdout",
     "output_type": "stream",
     "text": [
      "Server stopped.\n"
     ]
    }
   ],
   "source": [
    "from http.server import BaseHTTPRequestHandler, HTTPServer\n",
    "import time\n",
    "\n",
    "hostName = \"localhost\"\n",
    "serverPort = 8080\n",
    "\n",
    "class MyServer(BaseHTTPRequestHandler):\n",
    "    def do_GET(self):\n",
    "        self.send_response(200)\n",
    "        self.send_header(\"Content-type\", \"text/html\")\n",
    "        self.end_headers()\n",
    "        self.wfile.write(bytes(\"<html><head><title>https://pythonbasics.org</title></head>\", \"utf-8\"))\n",
    "        self.wfile.write(bytes(\"<p>Request: %s</p>\" % self.path, \"utf-8\"))\n",
    "        self.wfile.write(bytes(\"<body>\", \"utf-8\"))\n",
    "        self.wfile.write(bytes(\"<p>This is an example web server.</p>\", \"utf-8\"))\n",
    "        self.wfile.write(bytes(\"</body></html>\", \"utf-8\"))\n",
    "\n",
    "if __name__ == \"__main__\":        \n",
    "    webServer = HTTPServer((hostName, serverPort), MyServer)\n",
    "    print(\"Server started http://%s:%s\" % (hostName, serverPort))\n",
    "\n",
    "    try:\n",
    "        webServer.serve_forever()\n",
    "    except KeyboardInterrupt:\n",
    "        pass\n",
    "\n",
    "    webServer.server_close()\n",
    "    print(\"Server stopped.\")"
   ]
  },
  {
   "cell_type": "code",
   "execution_count": 6,
   "metadata": {},
   "outputs": [
    {
     "name": "stdout",
     "output_type": "stream",
     "text": [
      "http://localhost/api/elektro\n",
      "Status přidání záznamu:  400\n",
      "{'name': 'www', 'popis': 'wwww', 'elektroElements': [], 'druhElektroId': None, 'druhElektroApid': '', 'druhElektro': None, 'id': 2, 'apid': '8phskk1zw'}\n",
      "{'name': 'rr', 'popis': 'rrr', 'elektroElements': [], 'druhElektroId': None, 'druhElektroApid': '', 'druhElektro': None, 'id': 3, 'apid': '2dxcx8s7x'}\n",
      "{'name': 'DFDF', 'popis': 'DFDF', 'elektroElements': [], 'druhElektroId': None, 'druhElektroApid': '', 'druhElektro': None, 'id': 4, 'apid': 'y4c31q77j'}\n",
      "{'name': 'xxxx', 'popis': 'python', 'elektroElements': [], 'druhElektroId': None, 'druhElektroApid': '', 'druhElektro': None, 'id': 5, 'apid': 'tdgkakf6m'}\n",
      "{'name': 'xxjjjjxx', 'popis': 'python', 'elektroElements': [], 'druhElektroId': None, 'druhElektroApid': '', 'druhElektro': None, 'id': 6, 'apid': 'n653sk5u8'}\n",
      "{'name': 'xxjjjjxx', 'popis': 'python', 'elektroElements': [], 'druhElektroId': None, 'druhElektroApid': '', 'druhElektro': None, 'id': 7, 'apid': '3pzvs0149'}\n",
      "{'name': 'xxjjjjxx', 'popis': 'python', 'elektroElements': [], 'druhElektroId': None, 'druhElektroApid': '', 'druhElektro': None, 'id': 8, 'apid': 'j3hhhwtzk'}\n",
      "{'name': 'xxjjjjxx', 'popis': 'python', 'elektroElements': [], 'druhElektroId': None, 'druhElektroApid': '', 'druhElektro': None, 'id': 9, 'apid': 'bq8qazggw'}\n",
      "{'name': 'xxjjjjxx', 'popis': 'python', 'elektroElements': [], 'druhElektroId': None, 'druhElektroApid': '', 'druhElektro': None, 'id': 10, 'apid': 'xbxhs7w1t'}\n",
      "{'name': 'xxjjjjxx', 'popis': 'python', 'elektroElements': [], 'druhElektroId': None, 'druhElektroApid': '', 'druhElektro': None, 'id': 11, 'apid': 'tyca4gbdw'}\n",
      "{'name': 'xxjjjjxx', 'popis': 'python', 'elektroElements': [], 'druhElektroId': None, 'druhElektroApid': '', 'druhElektro': None, 'id': 12, 'apid': 'jgatn0z13'}\n",
      "{'name': 'xxjjjjxx', 'popis': 'python', 'elektroElements': [], 'druhElektroId': None, 'druhElektroApid': '', 'druhElektro': None, 'id': 13, 'apid': '7rccpx8q0'}\n",
      "{'name': 'xxjjjjxx', 'popis': 'python', 'elektroElements': [], 'druhElektroId': None, 'druhElektroApid': '', 'druhElektro': None, 'id': 14, 'apid': 'jw12bm0kz'}\n",
      "{'name': 'xxjjjjxx', 'popis': 'python', 'elektroElements': [], 'druhElektroId': None, 'druhElektroApid': '', 'druhElektro': None, 'id': 15, 'apid': 'udsb39dbp'}\n",
      "{'name': 'wwww', 'popis': 'wwww', 'elektroElements': [], 'druhElektroId': None, 'druhElektroApid': '', 'druhElektro': None, 'id': 27, 'apid': 'f1hc4kzm6'}\n",
      "{'name': 'fdgsg', 'popis': 'sdfg', 'elektroElements': [], 'druhElektroId': None, 'druhElektroApid': '', 'druhElektro': None, 'id': 28, 'apid': 'nmkszpjft'}\n",
      "{'name': 'dsfg', 'popis': 'sdfg', 'elektroElements': [], 'druhElektroId': None, 'druhElektroApid': '', 'druhElektro': None, 'id': 29, 'apid': '95q7mtynz'}\n",
      "{'name': 'asdf', 'popis': 'asdf', 'elektroElements': [], 'druhElektroId': None, 'druhElektroApid': '', 'druhElektro': None, 'id': 30, 'apid': 'ur414bxcc'}\n",
      "{'name': 'ddd', 'popis': 'dddd', 'elektroElements': [], 'druhElektroId': None, 'druhElektroApid': '', 'druhElektro': None, 'id': 31, 'apid': '4dzuxx9p6'}\n",
      "{'name': 'xxjjjjxx', 'popis': 'python', 'elektroElements': [], 'druhElektroId': None, 'druhElektroApid': '', 'druhElektro': None, 'id': 36, 'apid': '0fkqsrx3a'}\n",
      "{'name': 'xxjjjjxx', 'popis': 'python', 'elektroElements': [], 'druhElektroId': None, 'druhElektroApid': '', 'druhElektro': None, 'id': 37, 'apid': 'x1b981xm3'}\n",
      "{'name': 'eee', 'popis': 'eee', 'elektroElements': [], 'druhElektroId': None, 'druhElektroApid': '', 'druhElektro': None, 'id': 38, 'apid': '48yf3jhv3'}\n",
      "{'name': 'uuu', 'popis': 'uuu', 'elektroElements': [], 'druhElektroId': None, 'druhElektroApid': '', 'druhElektro': None, 'id': 39, 'apid': 'dc8spgf1w'}\n",
      "{'name': 'sdfgfdg', 'popis': 'dgfd', 'elektroElements': [], 'druhElektroId': None, 'druhElektroApid': '', 'druhElektro': None, 'id': 40, 'apid': 'k9n6tpfaf'}\n",
      "{'name': 'aaa', 'popis': 'aaaa', 'elektroElements': [], 'druhElektroId': None, 'druhElektroApid': '', 'druhElektro': None, 'id': 41, 'apid': 'n90m2mj0j'}\n",
      "{'name': 'sfd', 'popis': 'sdf', 'elektroElements': [], 'druhElektroId': None, 'druhElektroApid': '', 'druhElektro': None, 'id': 42, 'apid': 'xny75pj69'}\n",
      "{'name': 'bbb', 'popis': 'bbbb', 'elektroElements': [], 'druhElektroId': None, 'druhElektroApid': '', 'druhElektro': None, 'id': 43, 'apid': '8npt6zez1'}\n",
      "{'name': 'dd', 'popis': 'dd', 'elektroElements': [], 'druhElektroId': None, 'druhElektroApid': '', 'druhElektro': None, 'id': 44, 'apid': '2xvm7bb37'}\n",
      "{'name': 'xxjjjjxx', 'popis': 'python', 'elektroElements': [], 'druhElektroId': None, 'druhElektroApid': '', 'druhElektro': None, 'id': 45, 'apid': '6acpyxf0q'}\n",
      "{'name': 'C', 'popis': 'C', 'elektroElements': [], 'druhElektroId': None, 'druhElektroApid': '', 'druhElektro': None, 'id': 46, 'apid': 'td7jx8v95'}\n",
      "{'name': 'xxjjjjxx', 'popis': 'python', 'elektroElements': [], 'druhElektroId': None, 'druhElektroApid': '', 'druhElektro': None, 'id': 47, 'apid': '9r387mfuv'}\n",
      "{'name': 'S', 'popis': 'S', 'elektroElements': [], 'druhElektroId': None, 'druhElektroApid': '', 'druhElektro': None, 'id': 48, 'apid': '0f5xyz542'}\n",
      "{'name': 'xxjjjjxx', 'popis': 'python', 'elektroElements': [], 'druhElektroId': None, 'druhElektroApid': '', 'druhElektro': None, 'id': 49, 'apid': 'dtnjf8g2w'}\n",
      "{'name': 'OO', 'popis': 'OO', 'elektroElements': [], 'druhElektroId': None, 'druhElektroApid': '', 'druhElektro': None, 'id': 50, 'apid': 'ufnke1429'}\n",
      "{'name': 'xxjjjjxx', 'popis': 'python', 'elektroElements': [], 'druhElektroId': None, 'druhElektroApid': '', 'druhElektro': None, 'id': 51, 'apid': 't932t879d'}\n",
      "http://localhost/api/elektro/8\n",
      "{'name': 'xxjjjjxx', 'popis': 'python', 'elektroElements': [], 'druhElektroId': None, 'druhElektroApid': '', 'druhElektro': None, 'id': 8, 'apid': 'j3hhhwtzk'}\n",
      "Id posledního prvku: 51\n",
      "http://localhost/api/elektro/51\n",
      "Status kód DELETE: 200\n",
      "{\"name\":\"xxjjjjxx\",\"popis\":\"python\",\"elektroElements\":[],\"druhElektroId\":null,\"druhElektroApid\":\"\",\"druhElektro\":null,\"id\":51,\"apid\":\"t932t879d\"}\n"
     ]
    }
   ],
   "source": [
    "# python -m pip install requests\n",
    "import requests \n",
    "import json\n",
    "apiUrl = \"http://localhost/api/elektro\"\n",
    "# apiUrl = \"http://localhost/api/kabely\"\n",
    "print(apiUrl)\n",
    "headers = {'Content-Type': 'application/json'}\n",
    "pridat = {'name': 'xxjjjjxx', 'popis': 'python' }\n",
    "# response = requests.post(apiUrl, json.dumps(pridat), headers=headers)\n",
    "response = requests.post(apiUrl, pridat, headers=headers)\n",
    "print(\"Status přidání záznamu: \" , response.status_code)\n",
    "# print(response.json()) \n",
    "\n",
    "apiUrl = \"http://localhost/api/elektro\"\n",
    "response = requests.get(apiUrl)\n",
    "list =  response.json()\n",
    "test  = response.text\n",
    "for l in list:\n",
    "    print(l)\n",
    "\n",
    "apiUrl = \"http://localhost/api/elektro/8\"\n",
    "print(apiUrl)\n",
    "response = requests.get(apiUrl)\n",
    "print(response.json()) \n",
    "\n",
    "apiUrl = \"http://localhost/api/elektro\"\n",
    "# Ověření, zda seznam není prázdný\n",
    "if list:\n",
    "    posledni_prvek = list[-1]  # Poslední prvek seznamu\n",
    "    id_hodnota = posledni_prvek.get(\"id\")  # Získání hodnoty klíče \"Id\"\n",
    "\n",
    "    # print(f\"Poslední prvek: {posledni_prvek}\")\n",
    "    print(f\"Id posledního prvku: {id_hodnota}\")\n",
    "    deleteUrl = f\"{apiUrl}/{id_hodnota}\"\n",
    "    print(deleteUrl)\n",
    "    response = requests.delete(deleteUrl)\n",
    "    # Výpis výsledku mazání\n",
    "    print(f\"Status kód DELETE: {response.status_code}\")\n",
    "    print(response.text)\n",
    "\n",
    "else:\n",
    "    print(\"Seznam je prázdný!\")\n"
   ]
  }
 ],
 "metadata": {
  "kernelspec": {
   "display_name": "Python 3",
   "language": "python",
   "name": "python3"
  },
  "language_info": {
   "codemirror_mode": {
    "name": "ipython",
    "version": 3
   },
   "file_extension": ".py",
   "mimetype": "text/x-python",
   "name": "python",
   "nbconvert_exporter": "python",
   "pygments_lexer": "ipython3",
   "version": "3.12.3"
  }
 },
 "nbformat": 4,
 "nbformat_minor": 2
}
